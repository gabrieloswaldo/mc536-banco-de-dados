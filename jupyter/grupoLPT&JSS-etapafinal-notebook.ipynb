{
 "cells": [
  {
   "cell_type": "code",
   "execution_count": 2,
   "metadata": {},
   "outputs": [],
   "source": [
    "%defaultDatasource jdbc:h2:mem:db"
   ]
  },
  {
   "cell_type": "markdown",
   "metadata": {},
   "source": [
    "# **MC536 - TRABALHO FINAL**\n",
    "**Grupo:** Dupla LPT + Dupla JSS\n",
    "- Gabriel Henrique Rosa Oswaldo - 172185\n",
    "- Lucas Silva Lopes Do Carmo - 202110\n",
    "- Gabriel De Alcantara Bomfim Silveira - 197244\n",
    "- Vitor Coppo Ferreira - 206956"
   ]
  },
  {
   "cell_type": "markdown",
   "metadata": {},
   "source": [
    "## **Etapa 3: Dupla LPT - Análise relacional com SQL**"
   ]
  },
  {
   "cell_type": "markdown",
   "metadata": {},
   "source": [
    "### **Fonte de Dados**\n",
    "Nesta etapa do trabalho utilizamos como fonte de dados o [World Happiness Report 2016](https://www.kaggle.com/unsdsn/world-happiness/version/1#2016.csv), o qual contém pontuações e classificações de felicidade nos países, com um total de 157 instâncias e 13 variáveis. As pontuações são baseadas nas principais perguntas sobre avaliações sobre a vida das pessoas, feitas na pesquisa.\n",
    "\n",
    "As colunas deste conjunto de dados incluem país, região, rank de felicidade, pontuação de felicidade, intervalo de confiança inferior e superior, Economia (PIB), Família, Saúde (Expectativa de Vida), Liberdade, Confiança no Governo (Corrupção), Generosidade, Distopia residual. O índice de felicidade é determinado por seis fatores - de Economia a Generosidade - que tornam as avaliações de vida mais altas em cada país. "
   ]
  },
  {
   "cell_type": "markdown",
   "metadata": {},
   "source": [
    "### **Modelo relacional e lógico**\n",
    "Com este conjunto de dados, conseguimos obter o seguinte modelo relacional e lógico, respectivamente, apresentados abaixo:"
   ]
  },
  {
   "cell_type": "markdown",
   "metadata": {},
   "source": [
    "![Modelo Relacional Dupla LPT](./img/modelo_relacional_DuplaLPT.png)"
   ]
  },
  {
   "cell_type": "markdown",
   "metadata": {},
   "source": [
    "~~~~\n",
    "Survey (Country, Region, Happiness_Rank,  Happiness_Score, Lower_Confidence_Interval,  \n",
    "        Upper_Confidence_Interval, Economy, Family,  Life_Expectancy, Freedom, \n",
    "        Government_Corruption,  Generosity, Dystopia_Residual)\n",
    "~~~~"
   ]
  },
  {
   "cell_type": "markdown",
   "metadata": {},
   "source": [
    "### **Análises em SQL**"
   ]
  },
  {
   "cell_type": "markdown",
   "metadata": {},
   "source": [
    "### Preparação da tabela"
   ]
  },
  {
   "cell_type": "code",
   "execution_count": 11,
   "metadata": {},
   "outputs": [
    {
     "data": {
      "application/vnd.jupyter.widget-view+json": {
       "model_id": "6304b269-91cc-431c-b565-4da2a5af54ad",
       "version_major": 2,
       "version_minor": 0
      },
      "method": "display_data"
     },
     "metadata": {},
     "output_type": "display_data"
    }
   ],
   "source": [
    "DROP TABLE IF EXISTS Survey;\n",
    "\n",
    "CREATE TABLE Survey(\n",
    "    country VARCHAR(50) NOT NULL,\n",
    "    region VARCHAR(50),\n",
    "    hap_rank INT NOT NULL,\n",
    "    hap_score FLOAT,\n",
    "    lower_confidence_interval FLOAT,\n",
    "    upper_confidence_interval FLOAT,\n",
    "    economy FLOAT,\n",
    "    family FLOAT,\n",
    "    life_expectancy FLOAT,\n",
    "    freedom FLOAT,\n",
    "    gov_corruption FLOAT,\n",
    "    generosity FLOAT,\n",
    "    dystopia_residual FLOAT,\n",
    "    PRIMARY KEY(country)\n",
    ") AS SELECT \n",
    "    Country,\n",
    "    Region,\n",
    "    Happiness_Rank,\n",
    "    Happiness_Score,\n",
    "    Lower_Confidence_Interval,\n",
    "    Upper_Confidence_Interval,\n",
    "    Economy,\n",
    "    Family,\n",
    "    Life_Expectancy,\n",
    "    Freedom,\n",
    "    Government_Corruption,\n",
    "    Generosity,\n",
    "    Dystopia_Residual\n",
    "FROM CSVREAD('./data/world_happiness_report_2016.csv');\n",
    "\n",
    "SELECT * FROM Survey;"
   ]
  },
  {
   "cell_type": "markdown",
   "metadata": {},
   "source": [
    "### Query 1\n",
    "- Média do happiness score dos países, agrupados por região."
   ]
  },
  {
   "cell_type": "code",
   "execution_count": 12,
   "metadata": {},
   "outputs": [
    {
     "data": {
      "application/vnd.jupyter.widget-view+json": {
       "model_id": "547b583a-9f9d-4661-a1bc-3ce324787297",
       "version_major": 2,
       "version_minor": 0
      },
      "method": "display_data"
     },
     "metadata": {},
     "output_type": "display_data"
    }
   ],
   "source": [
    "SELECT S.region, AVG(hap_score) avg_hap_score, COUNT(*) countries\n",
    "    FROM Survey S\n",
    "    GROUP BY S.region\n",
    "    ORDER BY avg_hap_score DESC;"
   ]
  },
  {
   "cell_type": "markdown",
   "metadata": {},
   "source": [
    "### Query 2\n",
    "\n",
    "- Coeficientes de correlação de Pearson entre a pontuação de felicidade e os seis fatores: Economia, Família, Expectativa de Vida, Liberdade, Confiança no Governo, Generosidade. Essa consulta nos proporciona uma noção de quais dos seis fatores mais influenciam para ter uma pontuação de felicidade mais elevada."
   ]
  },
  {
   "cell_type": "code",
   "execution_count": 13,
   "metadata": {},
   "outputs": [],
   "source": [
    "DROP TABLE IF EXISTS CorrelationHapScore;\n",
    "\n",
    "CREATE TABLE CorrelationHapScore(\n",
    "    relation VARCHAR(50),\n",
    "    coeficient FLOAT\n",
    ");"
   ]
  },
  {
   "cell_type": "code",
   "execution_count": 14,
   "metadata": {},
   "outputs": [],
   "source": [
    "DROP VIEW IF EXISTS SumHapEcon;\n",
    "DROP VIEW IF EXISTS HapEcon;\n",
    "\n",
    "CREATE VIEW HapEcon AS\n",
    "SELECT S.country, S.hap_score X, S.economy Y, S.hap_score*S.economy XY, S.hap_score*S.hap_score X2, S.economy*S.economy Y2\n",
    "    FROM Survey S;\n",
    "    \n",
    "CREATE VIEW SumHapEcon AS\n",
    "SELECT SUM(HE.X) SX, SUM(HE.Y) SY, SUM(HE.XY) SXY, SUM(HE.X2) SX2, SUM(HE.Y2) SY2, SUM(HE.X)*SUM(HE.X) QSX, SUM(HE.Y)*SUM(HE.Y) QSY\n",
    "    FROM HapEcon HE;\n",
    "\n",
    "INSERT INTO CorrelationHapScore(coeficient, relation)\n",
    "    VALUES ((SELECT ((157*SHE.SXY) - (SHE.SX*SHE.SY))/SQRT(((157*SHE.SX2) - (SHE.QSX)) * ((157*SHE.SY2) - (SHE.QSY))) \n",
    "                FROM SumHapEcon SHE), 'economy');"
   ]
  },
  {
   "cell_type": "code",
   "execution_count": 15,
   "metadata": {},
   "outputs": [],
   "source": [
    "DROP VIEW IF EXISTS SumHapFam;\n",
    "DROP VIEW IF EXISTS HapFam;\n",
    "\n",
    "CREATE VIEW HapFam AS\n",
    "SELECT S.country, S.hap_score X, S.family Y, S.hap_score*S.family XY, S.hap_score*S.hap_score X2, S.family*S.family Y2\n",
    "    FROM Survey S;\n",
    "    \n",
    "CREATE VIEW SumHapFam AS\n",
    "SELECT SUM(HE.X) SX, SUM(HE.Y) SY, SUM(HE.XY) SXY, SUM(HE.X2) SX2, SUM(HE.Y2) SY2, SUM(HE.X)*SUM(HE.X) QSX, SUM(HE.Y)*SUM(HE.Y) QSY\n",
    "    FROM HapFam HE;\n",
    "    \n",
    "INSERT INTO CorrelationHapScore(coeficient, relation)\n",
    "    VALUES ((SELECT ((157*SHE.SXY) - (SHE.SX*SHE.SY))/SQRT(((157*SHE.SX2) - (SHE.QSX)) * ((157*SHE.SY2) - (SHE.QSY))) \n",
    "                    FROM SumHapFam SHE), 'family');"
   ]
  },
  {
   "cell_type": "code",
   "execution_count": 16,
   "metadata": {},
   "outputs": [],
   "source": [
    "DROP VIEW IF EXISTS SumHapLife;\n",
    "DROP VIEW IF EXISTS HapLife;\n",
    "\n",
    "CREATE VIEW HapLife AS\n",
    "SELECT S.country, S.hap_score X, S.life_expectancy Y, S.hap_score*S.life_expectancy XY, S.hap_score*S.hap_score X2, S.life_expectancy*S.life_expectancy Y2\n",
    "    FROM Survey S;\n",
    "    \n",
    "CREATE VIEW SumHapLife AS\n",
    "SELECT SUM(HE.X) SX, SUM(HE.Y) SY, SUM(HE.XY) SXY, SUM(HE.X2) SX2, SUM(HE.Y2) SY2, SUM(HE.X)*SUM(HE.X) QSX, SUM(HE.Y)*SUM(HE.Y) QSY\n",
    "    FROM HapLife HE;\n",
    "    \n",
    "INSERT INTO CorrelationHapScore(coeficient, relation)\n",
    "    VALUES ((SELECT ((157*SHE.SXY) - (SHE.SX*SHE.SY))/SQRT(((157*SHE.SX2) - (SHE.QSX)) * ((157*SHE.SY2) - (SHE.QSY))) \n",
    "                            FROM SumHapLife SHE), 'life_expectancy');"
   ]
  },
  {
   "cell_type": "code",
   "execution_count": 17,
   "metadata": {},
   "outputs": [],
   "source": [
    "DROP VIEW IF EXISTS SumHapFree;\n",
    "DROP VIEW IF EXISTS HapFree;\n",
    "\n",
    "CREATE VIEW HapFree AS\n",
    "SELECT S.country, S.hap_score X, S.freedom Y, S.hap_score*S.freedom XY, S.hap_score*S.hap_score X2, S.freedom*S.freedom Y2\n",
    "    FROM Survey S;\n",
    "    \n",
    "CREATE VIEW SumHapFree AS\n",
    "SELECT SUM(HE.X) SX, SUM(HE.Y) SY, SUM(HE.XY) SXY, SUM(HE.X2) SX2, SUM(HE.Y2) SY2, SUM(HE.X)*SUM(HE.X) QSX, SUM(HE.Y)*SUM(HE.Y) QSY\n",
    "    FROM HapFree HE;\n",
    "    \n",
    "INSERT INTO CorrelationHapScore(coeficient, relation)\n",
    "    VALUES ((SELECT ((157*SHE.SXY) - (SHE.SX*SHE.SY))/SQRT(((157*SHE.SX2) - (SHE.QSX)) * ((157*SHE.SY2) - (SHE.QSY))) \n",
    "                    FROM SumHapFree SHE), 'freedom');"
   ]
  },
  {
   "cell_type": "code",
   "execution_count": 18,
   "metadata": {},
   "outputs": [],
   "source": [
    "DROP VIEW IF EXISTS SumHapGov;\n",
    "DROP VIEW IF EXISTS HapGov;\n",
    "\n",
    "CREATE VIEW HapGov AS\n",
    "SELECT S.country, S.hap_score X, S.gov_corruption Y, S.hap_score*S.gov_corruption XY, S.hap_score*S.hap_score X2, S.gov_corruption*S.gov_corruption Y2\n",
    "    FROM Survey S;\n",
    "    \n",
    "CREATE VIEW SumHapGov AS\n",
    "SELECT SUM(HE.X) SX, SUM(HE.Y) SY, SUM(HE.XY) SXY, SUM(HE.X2) SX2, SUM(HE.Y2) SY2, SUM(HE.X)*SUM(HE.X) QSX, SUM(HE.Y)*SUM(HE.Y) QSY\n",
    "    FROM HapGov HE;\n",
    "    \n",
    "INSERT INTO CorrelationHapScore(coeficient, relation)\n",
    "    VALUES ((SELECT ((157*SHE.SXY) - (SHE.SX*SHE.SY))/SQRT(((157*SHE.SX2) - (SHE.QSX)) * ((157*SHE.SY2) - (SHE.QSY))) \n",
    "                            FROM SumHapGov SHE), 'gov_corruption');"
   ]
  },
  {
   "cell_type": "code",
   "execution_count": 19,
   "metadata": {},
   "outputs": [],
   "source": [
    "DROP VIEW IF EXISTS SumHapGen;\n",
    "DROP VIEW IF EXISTS HapGen;\n",
    "\n",
    "CREATE VIEW HapGen AS\n",
    "SELECT S.country, S.hap_score X, S.generosity Y, S.hap_score*S.generosity XY, S.hap_score*S.hap_score X2, S.generosity*S.generosity Y2\n",
    "    FROM Survey S;\n",
    "    \n",
    "CREATE VIEW SumHapGen AS\n",
    "SELECT SUM(HE.X) SX, SUM(HE.Y) SY, SUM(HE.XY) SXY, SUM(HE.X2) SX2, SUM(HE.Y2) SY2, SUM(HE.X)*SUM(HE.X) QSX, SUM(HE.Y)*SUM(HE.Y) QSY\n",
    "    FROM HapGen HE;\n",
    "    \n",
    "INSERT INTO CorrelationHapScore(coeficient, relation)\n",
    "    VALUES ((SELECT ((157*SHE.SXY) - (SHE.SX*SHE.SY))/SQRT(((157*SHE.SX2) - (SHE.QSX)) * ((157*SHE.SY2) - (SHE.QSY))) \n",
    "                        FROM SumHapGen SHE), 'generosity');"
   ]
  },
  {
   "cell_type": "code",
   "execution_count": 20,
   "metadata": {},
   "outputs": [
    {
     "data": {
      "application/vnd.jupyter.widget-view+json": {
       "model_id": "322c72fb-db6c-4d00-a122-49239ac916df",
       "version_major": 2,
       "version_minor": 0
      },
      "method": "display_data"
     },
     "metadata": {},
     "output_type": "display_data"
    }
   ],
   "source": [
    "SELECT * FROM CorrelationHapScore ORDER BY coeficient DESC;"
   ]
  },
  {
   "cell_type": "markdown",
   "metadata": {},
   "source": [
    "## **Etapa 3: Dupla JSS - Análise relacional com SQL**"
   ]
  },
  {
   "cell_type": "markdown",
   "metadata": {},
   "source": [
    "### **Fonte de Dados**\n",
    "https://data.unicef.org/topic/child-health/immunization/  \n",
    "trends-anual.csv\n",
    "\n",
    "A base de dados sobre imunização possui estimativas de taxas de imunização de 13 diferentes vacinas em diversos países do mundo nos últimos 10 anos.\n",
    "Para a análise a seguir, pegamos o recorte do Brasil.\n",
    "A segunda base foi criada a partir de dados obtidos do [Google Trends](https://trends.google.com/trends/) para pesquisas relacionadas ao movimento anti-vacina na região do Brasil."
   ]
  },
  {
   "cell_type": "markdown",
   "metadata": {},
   "source": [
    "### **Modelo relacional e lógico**\n",
    "Com este conjunto de dados, conseguimos obter o seguinte modelo relacional e lógico, respectivamente, apresentados abaixo:"
   ]
  },
  {
   "cell_type": "markdown",
   "metadata": {},
   "source": [
    "![Modelo Relacional Dupla JSS](./img/modelo_relacional_DuplaJSS.png)"
   ]
  },
  {
   "cell_type": "markdown",
   "metadata": {},
   "source": [
    "\n",
    "~~~\n",
    "Immunization_Estimate(id, unicef_region, iso3, vaccine, Ano, Taxa);\n",
    "Trends_antivax(Período, Antivax:(Brasil), Vacina Causa autismo(Brasil), Anti-vacina:(Brasil), Anti-vacinação:(Brasil), Soma, Popularidade, Ocorrências);\n",
    "~~~"
   ]
  },
  {
   "cell_type": "markdown",
   "metadata": {},
   "source": [
    "## Análise de taxas de vacinação"
   ]
  },
  {
   "cell_type": "code",
   "execution_count": 5,
   "metadata": {},
   "outputs": [],
   "source": [
    "DROP VIEW IF EXISTS Medias_Vacinas;\n",
    "DROP VIEW IF EXISTS Medias_Antivax;\n",
    "\n",
    "DROP TABLE IF EXISTS Antivax_Trends;\n",
    "DROP TABLE IF EXISTS Immunization_Estimates;\n",
    "\n",
    "CREATE TABLE Antivax_Trends (\n",
    "    Periodo INTEGER,\n",
    "    Popularidade INTEGER,\n",
    "    PRIMARY KEY(Periodo)\n",
    ") AS SELECT\n",
    "    Periodo,\n",
    "    Popularidade\n",
    "FROM CSVREAD('./data/trends-antivax-anual.csv');\n",
    "\n",
    "CREATE TABLE Immunization_Estimates (\n",
    "    Id INTEGER NOT NULL,\n",
    "    vaccine VARCHAR,\n",
    "    Ano INTEGER,\n",
    "    Taxa INTEGER,\n",
    "    PRIMARY KEY(Id)\n",
    ")AS SELECT\n",
    "    Id,\n",
    "    vaccine,\n",
    "    Ano,\n",
    "    Taxa\n",
    "FROM CSVREAD('./data/Immunization-estimates-2018-Brasil.csv')"
   ]
  },
  {
   "cell_type": "code",
   "execution_count": 6,
   "metadata": {},
   "outputs": [
    {
     "data": {
      "application/vnd.jupyter.widget-view+json": {
       "model_id": "425a2053-9376-4345-8fa5-c10e1cea2a56",
       "version_major": 2,
       "version_minor": 0
      },
      "method": "display_data"
     },
     "metadata": {},
     "output_type": "display_data"
    },
    {
     "data": {
      "application/vnd.jupyter.widget-view+json": {
       "model_id": "fef625ea-1055-4a23-80ac-089ef1cd0161",
       "version_major": 2,
       "version_minor": 0
      },
      "method": "display_data"
     },
     "metadata": {},
     "output_type": "display_data"
    }
   ],
   "source": [
    "SELECT * FROM Antivax_Trends;\n",
    "SELECT * FROM Immunization_Estimates;"
   ]
  },
  {
   "cell_type": "markdown",
   "metadata": {},
   "source": [
    "### **I. Análise de comportamento estatístico**"
   ]
  },
  {
   "cell_type": "markdown",
   "metadata": {},
   "source": [
    "### 1) Estruturação de view para assitência na análise"
   ]
  },
  {
   "cell_type": "code",
   "execution_count": 7,
   "metadata": {},
   "outputs": [
    {
     "data": {
      "application/vnd.jupyter.widget-view+json": {
       "model_id": "ab0f723d-4992-4b3c-becf-3778c0a79b6d",
       "version_major": 2,
       "version_minor": 0
      },
      "method": "display_data"
     },
     "metadata": {},
     "output_type": "display_data"
    }
   ],
   "source": [
    "CREATE VIEW IF NOT EXISTS Medias_Vacinas AS \n",
    "    SELECT vaccine, AVG(Immunization_Estimates.Taxa) Media_taxa\n",
    "    FROM Immunization_Estimates\n",
    "    GROUP BY vaccine;\n",
    "    \n",
    "SELECT * FROM Medias_Vacinas;"
   ]
  },
  {
   "cell_type": "markdown",
   "metadata": {},
   "source": [
    "### 2) Para cada ano a quantidade de taxas de imunização acima da média por vacina"
   ]
  },
  {
   "cell_type": "code",
   "execution_count": 8,
   "metadata": {},
   "outputs": [
    {
     "data": {
      "application/vnd.jupyter.widget-view+json": {
       "model_id": "e8eed7f5-6627-4a8b-825b-f13ff9f2583d",
       "version_major": 2,
       "version_minor": 0
      },
      "method": "display_data"
     },
     "metadata": {},
     "output_type": "display_data"
    },
    {
     "data": {
      "application/vnd.jupyter.widget-view+json": {
       "model_id": "8fc83ea8-834c-44dd-bf32-c68e9c0d9a6c",
       "version_major": 2,
       "version_minor": 0
      },
      "method": "display_data"
     },
     "metadata": {},
     "output_type": "display_data"
    }
   ],
   "source": [
    "DROP VIEW IF EXISTS contador_acima_media;\n",
    "CREATE VIEW contador_acima_media AS \n",
    "    Select Ano Anos_Acima_Da_Media, Immunization_Estimates.vaccine, Immunization_Estimates.taxa, Immunization_Estimates.ano\n",
    "    From Medias_Vacinas, Immunization_Estimates\n",
    "    Where Immunization_Estimates.Taxa >= Medias_Vacinas.media_taxa AND Immunization_Estimates.ano = Ano AND Medias_Vacinas.vaccine = Immunization_Estimates.vaccine\n",
    "    Group by ano, Immunization_Estimates.vaccine;\n",
    "    \n",
    "    --para cada ano eu quero selecionar a contagem de valores acima da media\n",
    "\n",
    "SELECT ano Ano_acima_media, COUNT(*) \n",
    "    FROM contador_acima_media\n",
    "    GROUP BY ano;\n",
    "\n",
    "SELECT * FROM contador_acima_media;"
   ]
  },
  {
   "cell_type": "markdown",
   "metadata": {},
   "source": [
    "### 3) Para cada ano a quantidade de taxas de imunização abaixo da média por vacina"
   ]
  },
  {
   "cell_type": "code",
   "execution_count": 9,
   "metadata": {},
   "outputs": [
    {
     "data": {
      "application/vnd.jupyter.widget-view+json": {
       "model_id": "6cd22e30-57be-4608-840d-0af24104ef6b",
       "version_major": 2,
       "version_minor": 0
      },
      "method": "display_data"
     },
     "metadata": {},
     "output_type": "display_data"
    },
    {
     "data": {
      "application/vnd.jupyter.widget-view+json": {
       "model_id": "5f3233ec-4c6f-4cc2-af10-c4f0c18e14d0",
       "version_major": 2,
       "version_minor": 0
      },
      "method": "display_data"
     },
     "metadata": {},
     "output_type": "display_data"
    }
   ],
   "source": [
    "DROP VIEW IF EXISTS contador_abaixo_media;\n",
    "CREATE VIEW contador_abaixo_media AS \n",
    "    Select Ano Anos_Abaixo_Da_Media, Immunization_Estimates.vaccine, Immunization_Estimates.taxa, Immunization_Estimates.ano\n",
    "    From Medias_Vacinas, Immunization_Estimates\n",
    "    Where Immunization_Estimates.Taxa < Medias_Vacinas.media_taxa AND Immunization_Estimates.ano = Ano AND Medias_Vacinas.vaccine = Immunization_Estimates.vaccine\n",
    "    Group by ano, Immunization_Estimates.vaccine;\n",
    "    \n",
    "    --para cada ano eu quero selecionar a contagem de valores abaixo da media\n",
    "\n",
    "SELECT ano Ano_abaixo_media, COUNT(*) \n",
    "    FROM contador_abaixo_media\n",
    "    GROUP BY ano;\n",
    "    \n",
    "SELECT * FROM contador_abaixo_media;"
   ]
  },
  {
   "cell_type": "markdown",
   "metadata": {},
   "source": [
    "### 4) Período com maior número de pesquisas contra vacinação"
   ]
  },
  {
   "cell_type": "code",
   "execution_count": 10,
   "metadata": {},
   "outputs": [
    {
     "data": {
      "text/plain": [
       "2018"
      ]
     },
     "execution_count": 10,
     "metadata": {},
     "output_type": "execute_result"
    }
   ],
   "source": [
    "Select Periodo \n",
    "    from Antivax_Trends\n",
    "    WHERE Antivax_Trends.Popularidade = (Select MAX(Popularidade) \n",
    "                                             from Antivax_Trends);"
   ]
  },
  {
   "cell_type": "markdown",
   "metadata": {},
   "source": [
    "## **Etapa 4: Grupo LPT + JSS - Análise hierárquica com XQuery** "
   ]
  },
  {
   "cell_type": "markdown",
   "metadata": {},
   "source": [
    "### **Base de Dados e Queries**\n",
    "Para a realização do trabalho utilizamos os data sets gratuitos disponíveis em: [Orphadata](http://www.orphadata.org/cgi-bin/index.php).   \n",
    "As bases de dados estão relacionadas a classificação do doenças raras, genes associados a essas doenças, e seus respectivos fenótipos.\n",
    "\n",
    "Para a elaboração das queries em XQuery nas bases XML utilizamos o programa gratuito [BaseX](http://basex.org/), visto que o programa mostrado pelo professor (http://try.zorba.io/) não suportava o tamanho das fontes de dados.\n",
    "\n",
    "Abaixo temos todas as queries realizadas, com suas respectivas descrições, bases utilizadas e códigos XQuery:"
   ]
  },
  {
   "cell_type": "markdown",
   "metadata": {},
   "source": [
    "### **XQuery 01**\n",
    "**Descrição:** Retorna a quantidade de doenças raras cadastradas na base.  \n",
    "**Base:** http://www.orphadata.org/data/xml/en_product4_HPO.xml  \n",
    "**Código:**"
   ]
  },
  {
   "cell_type": "markdown",
   "metadata": {},
   "source": [
    "~~~XQuery\n",
    "   for $c in //DisorderList\n",
    "   \n",
    "   return count($c/Disorder)\n",
    "~~~"
   ]
  },
  {
   "cell_type": "markdown",
   "metadata": {},
   "source": [
    "### **XQuery 02**\n",
    "**Descrição:** retorna a quantidade de distúrbios associados a doença rara com o id especificado, no caso utilizamos a “Alexander Disease”, que possui o id=2.  \n",
    "**Base:** http://www.orphadata.org/data/xml/en_product4_HPO.xml  \n",
    "**Código:**"
   ]
  },
  {
   "cell_type": "markdown",
   "metadata": {},
   "source": [
    "~~~XQuery\n",
    "for $c in //Disorder[@id=2]//HPODisorderAssociationList  \n",
    "\n",
    "return count($c/HPODisorderAssociation)\n",
    "~~~"
   ]
  },
  {
   "cell_type": "markdown",
   "metadata": {},
   "source": [
    "### **XQuery 03**\n",
    "**Descrição:** retorna a lista formatada de distúrbios com a frequência acima de “Frequente”, associadas a doença rara com o id especificado, no caso utilizamos a “Alexander Disease” com frequência \"Frequent (79-30%)\", \"Very frequent (99-80%)\" e \"Obligate (100%)\".<br>\n",
    "**Base:** http://www.orphadata.org/data/xml/en_product4_HPO.xml<br>\n",
    "**Código:** "
   ]
  },
  {
   "cell_type": "markdown",
   "metadata": {},
   "source": [
    "~~~XQuery\n",
    "for $c in //Disorder[@id=2]//HPODisorderAssociation\n",
    "\n",
    "where $c/HPOFrequency[Name=\"Very frequent (99-80%)\"] or\n",
    "\n",
    "      $c/HPOFrequency[Name=\"Frequent (79-30%)\"]\n",
    "      \n",
    "return <sintoma>\n",
    "\n",
    "         <nome>{data($c//HPOTerm)}</nome>\n",
    "         \n",
    "         <frequencia>{data($c/HPOFrequency/Name)}</frequencia>\n",
    "         \n",
    "       </sintoma>\n",
    "~~~"
   ]
  },
  {
   "cell_type": "markdown",
   "metadata": {},
   "source": [
    "### **XQuery 04**\n",
    "**Descrição:** retorna uma lista de doenças que possuem o sintoma especificado (HPOTerm=\"Macrocephaly\") com frequência acima de “Frequent (79-30%)”.  \n",
    "**Base:** http://www.orphadata.org/data/xml/en_product4_HPO.xml  \n",
    "**Código:**"
   ]
  },
  {
   "cell_type": "markdown",
   "metadata": {},
   "source": [
    "~~~XQuery\n",
    "for $c in //Disorder\n",
    "where $c//HPODisorderAssociation/HPO[HPOTerm=\"Macrocephaly\"] and\n",
    "      ($c//HPODisorderAssociation//HPOFrequency[Name=\"Very frequent (99-80%)\"] or\n",
    "       $c//HPODisorderAssociation//HPOFrequency[Name=\"Frequent (79-30%)\"] or\n",
    "       $c//HPODisorderAssociation//HPOFrequency[Name=\"Obligate (100%)\"])\n",
    "       \n",
    "return  data($c/Name)\n",
    "~~~"
   ]
  },
  {
   "cell_type": "markdown",
   "metadata": {},
   "source": [
    "### **XQuery 05**\n",
    "**Descrição:** retorna uma lista de doenças que possuem ambos os sintomas especificados com uma frequência acima de ocasional.  \n",
    "**Base:** http://www.orphadata.org/data/xml/en_product4_HPO.xml  \n",
    "**Código:**"
   ]
  },
  {
   "cell_type": "markdown",
   "metadata": {},
   "source": [
    "~~~XQuery\n",
    "for $c in (//Disorder),\n",
    "\n",
    "    $d in (//Disorder)\n",
    "    \n",
    "where  $c//HPODisorderAssociation/HPO[HPOTerm=\"Macrocephaly\"] and\n",
    "\n",
    "       $d//HPODisorderAssociation/HPO[HPOTerm=\"Nystagmus\"] and\n",
    "       \n",
    "       ($c[@id] = $d[@id]) \n",
    "       \n",
    "       and\n",
    "       \n",
    "      (($c/HPODisorderAssociation/HPOFrequency[Name=\"Frequent (79-30%)\"] or\n",
    "      \n",
    "        $c//HPOFrequency[Name=\"Very frequent (99-80%)\"] or\n",
    "        \n",
    "        $c//HPOFrequency[Name=\"Obligate (100%)\"]) and\n",
    "        \n",
    "        ($d//HPOFrequency[Name=\"Frequent (79-30%)\"] or\n",
    "        \n",
    "        $d//HPOFrequency[Name=\"Very frequent (99-80%)\"] or\n",
    "        \n",
    "        $d//HPOFrequency[Name=\"Obligate (100%)\"]))\n",
    "        \n",
    "        \n",
    "return data($c/Name)\n",
    "~~~"
   ]
  },
  {
   "cell_type": "markdown",
   "metadata": {},
   "source": [
    "## **Etapa 5: Grupo LPT + JSS - Análise de rede com Neo4J/Cypher** "
   ]
  },
  {
   "cell_type": "markdown",
   "metadata": {},
   "source": [
    "### **Base de Dados e Queries**"
   ]
  },
  {
   "cell_type": "markdown",
   "metadata": {},
   "source": [
    "Para a realização da etapa final, utilizamos um data set disponível em: https://www.kaggle.com/russellyates88/suicide-rates-overview-1985-to-2016#master.csv  \n",
    "\n",
    "O data set apresenta taxas de suicídio em diversos países ao longo dos anos entre 1985 e 2016 a partir de suicídios registrados em cada país.\n",
    "\n",
    "Para a realização das queries, separamos a base em pequenos arquivos menores para podermos correlacioná-los mais facilmente utilizando o programa [Neo4J](https://neo4j.com/).\n",
    "\n",
    "Abaixo encontram-se as queries realizadas, suas descrições e uma imagem do grafo resultante\n"
   ]
  },
  {
   "cell_type": "markdown",
   "metadata": {},
   "source": [
    "### **Query 01**"
   ]
  },
  {
   "cell_type": "markdown",
   "metadata": {},
   "source": [
    "**Descrição:** importa os países na base  \n",
    "**Query:**\n",
    "~~~Cypher\n",
    "LOAD CSV WITH HEADERS FROM 'https://raw.githubusercontent.com/gabrieloswaldo/mc536-trabalho/master/jupyter/data/suicidio-paises.csv' AS line\n",
    "CREATE (:Pais {id: line.Id_pais, name: line.country})\n",
    "~~~"
   ]
  },
  {
   "cell_type": "markdown",
   "metadata": {},
   "source": [
    "### **Query 02**"
   ]
  },
  {
   "cell_type": "markdown",
   "metadata": {},
   "source": [
    "**Descrição:** importa os casos de suicídio  \n",
    "**Query:**\n",
    "~~~Cypher\n",
    "LOAD CSV WITH HEADERS FROM 'https://raw.githubusercontent.com/gabrieloswaldo/mc536-trabalho/master/jupyter/data/suicidios-casos.csv' AS line CREATE (:Suicidio {id: line.Id, sex: line.sex, age: line.age, generation: line.generation})\n",
    "~~~"
   ]
  },
  {
   "cell_type": "markdown",
   "metadata": {},
   "source": [
    "### **Query 03**"
   ]
  },
  {
   "cell_type": "markdown",
   "metadata": {},
   "source": [
    "**Descrição:** cria a relação entre os casos de suicídio e os países em que aconteceram  \n",
    "**Query:**  \n",
    "~~~Cypher\n",
    "CREATE INDEX ON :Suicidio(id)\n",
    "CREATE INDEX ON :Pais(name)\n",
    "LOAD CSV WITH HEADERS FROM 'https://raw.githubusercontent.com/gabrieloswaldo/mc536-trabalho/master/jupyter/data/suicidios-relations.csv' AS csvLine\n",
    "MATCH (p:Pais {name: csvLine.country})\n",
    "MATCH (c:Suicidio {id: csvLine.Id})\n",
    "CREATE (c)-[:OCORREU {ano: csvLine.year}]->(p)\n",
    "~~~"
   ]
  },
  {
   "cell_type": "markdown",
   "metadata": {},
   "source": [
    "![Grafo Query 03](./img/grafo_suicidios_pais.png)"
   ]
  },
  {
   "cell_type": "markdown",
   "metadata": {},
   "source": [
    "### **Query 04**"
   ]
  },
  {
   "cell_type": "markdown",
   "metadata": {},
   "source": [
    "**Descrição:** cria um nó para cada geração  \n",
    "**Query:**\n",
    "~~~Cypher\n",
    "LOAD CSV WITH HEADERS FROM 'https://raw.githubusercontent.com/gabrieloswaldo/mc536-trabalho/master/jupyter/data/suicidios-casos.csv' AS line\n",
    "MERGE (g:Generation {generation: line.generation})\n",
    "~~~"
   ]
  },
  {
   "cell_type": "markdown",
   "metadata": {},
   "source": [
    "### **Query 05**"
   ]
  },
  {
   "cell_type": "markdown",
   "metadata": {},
   "source": [
    "**Descrição:** cria a relação entre os casos de suicídio e a qual geração a pessoa pertenceu  \n",
    "**Query:**\n",
    "~~~Cypher\n",
    "MATCH (g:Generation)\n",
    "MATCH (s:Suicidio)\n",
    "WHERE s.generation = g.generation\n",
    "CREATE (s)-[:PERTENCE_A]->(g)\n",
    "~~~"
   ]
  },
  {
   "cell_type": "markdown",
   "metadata": {},
   "source": [
    "![Grafo Query 05](/img/grafo_suicidios_geracao.png)"
   ]
  },
  {
   "cell_type": "markdown",
   "metadata": {},
   "source": [
    "### **Query 06**"
   ]
  },
  {
   "cell_type": "markdown",
   "metadata": {},
   "source": [
    "**Descrição:**  retorna a rede de relações entre os suicídios de pessoas e qual geração ela pertenceu, especificada para dois países.  \n",
    "**Query:**\n",
    "~~~Cypher\n",
    "MATCH (g:Generation {generation:\"Boomers\"})\n",
    "MATCH (s:Suicidio)-[:OCORREU]->(p)\n",
    "WHERE p.name = \"Brazil\" OR p.name = \"Austria\"\n",
    "RETURN (s)-[:PERTENCE_A]->(g), p\n",
    "~~~"
   ]
  },
  {
   "cell_type": "markdown",
   "metadata": {},
   "source": [
    "![Grafo Query 06](/img/grafo_comparacao_geracao_2paises.png)"
   ]
  },
  {
   "cell_type": "markdown",
   "metadata": {},
   "source": [
    "### **Query 07**"
   ]
  },
  {
   "cell_type": "markdown",
   "metadata": {},
   "source": [
    "**Descrição:** retorna a rede de relações entre os suicídios de pessoas e qual geração ela pertenceu, especificada para três países.  \n",
    "**Query:**\n",
    "~~~Cypher\n",
    "MATCH (g:Generation {generation:\"Boomers\"})\n",
    "MATCH (s:Suicidio)-[:OCORREU]->(p)\n",
    "WHERE p.name = \"Cuba\" OR p.name = \"Macau\" OR p.name = \"Turkey\"\n",
    "RETURN (s)-[:PERTENCE_A]->(g), p\n",
    "~~~"
   ]
  },
  {
   "cell_type": "markdown",
   "metadata": {},
   "source": [
    "![Grafo Query 07](/img/grafo_comparacao_geracao_3paises.png)"
   ]
  },
  {
   "cell_type": "markdown",
   "metadata": {},
   "source": [
    "### **Query 08**"
   ]
  },
  {
   "cell_type": "markdown",
   "metadata": {},
   "source": [
    "**Descrição:** cria os nós representantes do sexo masculino (Male) e feminino(Female)  \n",
    "**Query:**\n",
    "~~~Cypher\n",
    "LOAD CSV WITH HEADERS FROM 'https://raw.githubusercontent.com/gabrieloswaldo/mc536-trabalho/master/jupyter/data/suicidios-casos.csv' AS line\n",
    "MERGE (s:Sex {sex: line.sex})\n",
    "~~~"
   ]
  },
  {
   "cell_type": "markdown",
   "metadata": {},
   "source": [
    "### **Query 09**"
   ]
  },
  {
   "cell_type": "markdown",
   "metadata": {},
   "source": [
    "**Descrição:** Cria relações entre suicidas Homens com o nó Male e suicidas mulheres com o nó Female.  \n",
    "**Query:**\n",
    "~~~Cypher\n",
    "MATCH (sex:Sex)\n",
    "MATCH (sui:Suicidio)\n",
    "WHERE sui.sex = sex.sex\n",
    "CREATE (sui)-[:TEM_SEXO]->(sex)\n",
    "~~~"
   ]
  },
  {
   "cell_type": "markdown",
   "metadata": {},
   "source": [
    "![Grafo Query 09](/img/grafo_sexos.png)"
   ]
  },
  {
   "cell_type": "markdown",
   "metadata": {},
   "source": [
    "### **Query 10**"
   ]
  },
  {
   "cell_type": "markdown",
   "metadata": {},
   "source": [
    "**Descrição:** retorna a relação entre suicídios de homens e mulheres em um país.  \n",
    "**Query:**\n",
    "~~~Cypher\n",
    "MATCH (s:Suicidio)-[:OCORREU]->(p:Pais)\n",
    "MATCH (s:Suicidio)-[:TEM_SEXO]->(sex:Sex)\n",
    "WHERE p.name = \"Macau\"\n",
    "RETURN s, sex, p\n",
    "~~~"
   ]
  },
  {
   "cell_type": "markdown",
   "metadata": {},
   "source": [
    "![Grafo Query 10](/img/grafo_diferenca_sexos_paises.png)"
   ]
  },
  {
   "cell_type": "markdown",
   "metadata": {},
   "source": [
    "### **Query 11**"
   ]
  },
  {
   "cell_type": "markdown",
   "metadata": {},
   "source": [
    "**Descrição:** roda o pagerank no grafo e retorna o score para os países com mais suicídios  \n",
    "**Query:**\n",
    "~~~Cypher\n",
    "CALL algo.pageRank.stream('Page', 'LINKS', {iterations:20, dampingFactor:0.85})\n",
    "YIELD nodeId, score\n",
    "RETURN algo.asNode(nodeId).name AS name,score\n",
    "ORDER BY score DESC\n",
    "~~~"
   ]
  },
  {
   "cell_type": "markdown",
   "metadata": {},
   "source": [
    "![Grafo Query 11](./img/resultado_pagerank.png)"
   ]
  }
 ],
 "metadata": {
  "kernelspec": {
   "display_name": "SQL",
   "language": "SQL",
   "name": "sql"
  },
  "language_info": {
   "codemirror_mode": "sql",
   "file_extension": ".sql",
   "mimetype": "",
   "name": "SQL",
   "nbconverter_exporter": "",
   "version": ""
  }
 },
 "nbformat": 4,
 "nbformat_minor": 2
}
