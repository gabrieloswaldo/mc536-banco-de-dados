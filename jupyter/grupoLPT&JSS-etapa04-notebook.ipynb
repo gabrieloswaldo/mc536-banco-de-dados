{
 "cells": [
  {
   "cell_type": "markdown",
   "metadata": {},
   "source": [
    "# Tarefa Trabalho 04 - XQuery\n",
    "\n",
    "**Grupo:** dupla LPT + dupla JSS\n",
    "- Gabriel Henrique Rosa Oswaldo - 172185\n",
    "- Lucas Silva Lopes Do Carmo - 202110\n",
    "- Gabriel De Alcantara Bomfim Silveira - 197244\n",
    "- Vitor Coppo Ferreira - 206956"
   ]
  },
  {
   "cell_type": "markdown",
   "metadata": {},
   "source": [
    "## Bases de Dados e Queries\n",
    "Para a realização do trabalho utilizamos os data sets gratuitos disponíveis em: [Orphadata](http://www.orphadata.org/cgi-bin/index.php).<br> \n",
    "As bases de dados estão relacionadas a classificação do doenças raras, genes associados a essas doenças, e seus respectivos fenótipos.<br><br>\n",
    "Para a elaboração das queries em XQuery nas bases XML utilizamos o programa gratuito [BaseX](http://basex.org/), visto que o programa mostrado pelo professor (http://try.zorba.io/) não suportava o tamanho das fontes de dados.<br><br>\n",
    "Abaixo temos todas as queries realizadas, com suas respectivas descrições, bases utilizadas e códigos XQuery:"
   ]
  },
  {
   "cell_type": "markdown",
   "metadata": {},
   "source": [
    "### XQuery 01\n",
    "**Descrição:** retorna a quantidade de doenças raras cadastradas na base.<br>\n",
    "**Base:** http://www.orphadata.org/data/xml/en_product4_HPO.xml<br>\n",
    "**Código:** \n",
    "```\n",
    "for $c in //DisorderList\n",
    "return count($c/Disorder)\n",
    "```"
   ]
  },
  {
   "cell_type": "markdown",
   "metadata": {},
   "source": [
    "### XQuery 02\n",
    "**Descrição:** retorna a quantidade de distúrbios associados a doença rara com o id especificado, no caso utilizamos a “Alexander Disease”, que possui o id=2.<br>\n",
    "**Base:** http://www.orphadata.org/data/xml/en_product4_HPO.xml<br>\n",
    "**Código:** \n",
    "```\n",
    "for $c in //Disorder[@id=2]//HPODisorderAssociationList\n",
    "return count($c/HPODisorderAssociation)\n",
    "```"
   ]
  },
  {
   "cell_type": "markdown",
   "metadata": {},
   "source": [
    "### XQuery 03\n",
    "**Descrição:** retorna a lista formatada de distúrbios com a frequência acima de “Frequente”, associadas a doença rara com o id especificado, no caso utilizamos a “Alexander Disease” com frequência \"Frequent (79-30%)\", \"Very frequent (99-80%)\" e \"Obligate (100%)\".. <br>\n",
    "**Base:** http://www.orphadata.org/data/xml/en_product4_HPO.xml<br>\n",
    "**Código:** \n",
    "```\n",
    "for $c in //Disorder[@id=2]//HPODisorderAssociation\n",
    "where $c/HPOFrequency[Name=\"Very frequent (99-80%)\"] or\n",
    "      $c/HPOFrequency[Name=\"Frequent (79-30%)\"]\n",
    "return <sintoma>\n",
    "         <nome>{data($c//HPOTerm)}</nome>\n",
    "         <frequencia>{data($c/HPOFrequency/Name)}</frequencia>\n",
    "       </sintoma>\n",
    "```"
   ]
  },
  {
   "cell_type": "markdown",
   "metadata": {},
   "source": [
    "### XQuery 04\n",
    "**Descrição:** retorna uma lista de doenças que possuem o sintoma especificado (HPOTerm=\"Macrocephaly\") com frequência acima de “Frequent (79-30%)”.<br>\n",
    "**Base:** http://www.orphadata.org/data/xml/en_product4_HPO.xml<br>\n",
    "**Código:** \n",
    "```\n",
    "for $c in //Disorder\n",
    "where $c//HPODisorderAssociation/HPO[HPOTerm=\"Macrocephaly\"] and\n",
    "      ($c//HPODisorderAssociation//HPOFrequency[Name=\"Very frequent (99-80%)\"] or\n",
    "       $c//HPODisorderAssociation//HPOFrequency[Name=\"Frequent (79-30%)\"] or\n",
    "       $c//HPODisorderAssociation//HPOFrequency[Name=\"Obligate (100%)\"])\n",
    "return  data($c/Name)\n",
    "```"
   ]
  },
  {
   "cell_type": "markdown",
   "metadata": {},
   "source": [
    "### XQuery 05\n",
    "**Descrição:** retorna uma lista de doenças que possuem ambos os sintomas especificados com uma frequência acima de ocasional.<br>\n",
    "**Base:** http://www.orphadata.org/data/xml/en_product4_HPO.xml<br>\n",
    "**Código:** \n",
    "```\n",
    "for $c in (//Disorder),\n",
    "    $d in (//Disorder)\n",
    "where  $c//HPODisorderAssociation/HPO[HPOTerm=\"Macrocephaly\"] and\n",
    "       $d//HPODisorderAssociation/HPO[HPOTerm=\"Nystagmus\"] and\n",
    "       ($c[@id] = $d[@id])\n",
    "       and\n",
    "      (($c/HPODisorderAssociation/HPOFrequency[Name=\"Frequent (79-30%)\"] or\n",
    "        $c//HPOFrequency[Name=\"Very frequent (99-80%)\"] or\n",
    "        $c//HPOFrequency[Name=\"Obligate (100%)\"]) and\n",
    "        ($d//HPOFrequency[Name=\"Frequent (79-30%)\"] or\n",
    "        $d//HPOFrequency[Name=\"Very frequent (99-80%)\"] or\n",
    "        $d//HPOFrequency[Name=\"Obligate (100%)\"]))\n",
    "return data($c/Name)\n",
    "```"
   ]
  }
 ],
 "metadata": {
  "kernelspec": {
   "display_name": "Python 3",
   "language": "python",
   "name": "python3"
  },
  "language_info": {
   "codemirror_mode": {
    "name": "ipython",
    "version": 3
   },
   "file_extension": ".py",
   "mimetype": "text/x-python",
   "name": "python",
   "nbconvert_exporter": "python",
   "pygments_lexer": "ipython3",
   "version": "3.7.3"
  }
 },
 "nbformat": 4,
 "nbformat_minor": 2
}
