{
 "cells": [
  {
   "cell_type": "code",
   "execution_count": 1,
   "metadata": {},
   "outputs": [],
   "source": [
    "%defaultDatasource jdbc:h2:mem:db"
   ]
  },
  {
   "cell_type": "markdown",
   "metadata": {},
   "source": [
    "# Análise de taxas de vacinação"
   ]
  },
  {
   "cell_type": "code",
   "execution_count": 2,
   "metadata": {},
   "outputs": [],
   "source": [
    "DROP VIEW IF EXISTS Medias_Vacinas;\n",
    "DROP VIEW IF EXISTS Medias_Antivax;\n",
    "\n",
    "DROP TABLE IF EXISTS Antivax_Trends;\n",
    "DROP TABLE IF EXISTS Immunization_Estimates;\n",
    "\n",
    "CREATE TABLE Antivax_Trends (\n",
    "    Periodo INTEGER,\n",
    "    Popularidade INTEGER,\n",
    "    PRIMARY KEY(Periodo)\n",
    ") AS SELECT\n",
    "    Periodo,\n",
    "    Popularidade\n",
    "FROM CSVREAD('../data/vacinas/trends-antivax-anual.csv');\n",
    "\n",
    "CREATE TABLE Immunization_Estimates (\n",
    "    Id INTEGER NOT NULL,\n",
    "    vaccine VARCHAR,\n",
    "    Ano INTEGER,\n",
    "    Taxa INTEGER,\n",
    "    PRIMARY KEY(Id)\n",
    ")AS SELECT\n",
    "    Id,\n",
    "    vaccine,\n",
    "    Ano,\n",
    "    Taxa\n",
    "FROM CSVREAD('../data/vacinas/Immunization-estimates-2018-Brasil.csv')\n"
   ]
  },
  {
   "cell_type": "code",
   "execution_count": 3,
   "metadata": {},
   "outputs": [
    {
     "data": {
      "application/vnd.jupyter.widget-view+json": {
       "model_id": "9391df6e-fc77-41f9-8a29-a3b785fc5605",
       "version_major": 2,
       "version_minor": 0
      },
      "method": "display_data"
     },
     "metadata": {},
     "output_type": "display_data"
    },
    {
     "data": {
      "application/vnd.jupyter.widget-view+json": {
       "model_id": "67ec5048-ae4e-447d-bda8-599bb0426a6a",
       "version_major": 2,
       "version_minor": 0
      },
      "method": "display_data"
     },
     "metadata": {},
     "output_type": "display_data"
    }
   ],
   "source": [
    "SELECT * FROM Antivax_Trends;\n",
    "SELECT * FROM Immunization_Estimates;"
   ]
  },
  {
   "cell_type": "markdown",
   "metadata": {},
   "source": [
    "# I. Análise de comportamento estatístico"
   ]
  },
  {
   "cell_type": "markdown",
   "metadata": {},
   "source": [
    "## 1) Estruturação de view para assitência na análise"
   ]
  },
  {
   "cell_type": "code",
   "execution_count": 4,
   "metadata": {},
   "outputs": [
    {
     "data": {
      "application/vnd.jupyter.widget-view+json": {
       "model_id": "10cd9ed2-4f5d-45fa-bc8d-525d6ea701ba",
       "version_major": 2,
       "version_minor": 0
      },
      "method": "display_data"
     },
     "metadata": {},
     "output_type": "display_data"
    }
   ],
   "source": [
    "CREATE VIEW IF NOT EXISTS Medias_Vacinas AS \n",
    "    SELECT vaccine, AVG(Immunization_Estimates.Taxa) Media_taxa\n",
    "    FROM Immunization_Estimates\n",
    "    GROUP BY vaccine;\n",
    "    \n",
    "SELECT * FROM Medias_Vacinas;"
   ]
  },
  {
   "cell_type": "markdown",
   "metadata": {},
   "source": [
    "## 2) Para cada ano a quantidade de taxas de imunização acima da média por vacina"
   ]
  },
  {
   "cell_type": "code",
   "execution_count": 13,
   "metadata": {
    "scrolled": true
   },
   "outputs": [
    {
     "data": {
      "application/vnd.jupyter.widget-view+json": {
       "model_id": "03931aa3-3d2c-45ef-9885-2cef3a545373",
       "version_major": 2,
       "version_minor": 0
      },
      "method": "display_data"
     },
     "metadata": {},
     "output_type": "display_data"
    },
    {
     "data": {
      "application/vnd.jupyter.widget-view+json": {
       "model_id": "1f946f46-0e43-45f6-b458-2e52fd3ab322",
       "version_major": 2,
       "version_minor": 0
      },
      "method": "display_data"
     },
     "metadata": {},
     "output_type": "display_data"
    }
   ],
   "source": [
    "DROP VIEW IF EXISTS contador_acima_media;\n",
    "CREATE VIEW contador_acima_media AS \n",
    "    Select Ano Anos_Acima_Da_Media, Immunization_Estimates.vaccine, Immunization_Estimates.taxa, Immunization_Estimates.ano\n",
    "    From Medias_Vacinas, Immunization_Estimates\n",
    "    Where Immunization_Estimates.Taxa >= Medias_Vacinas.media_taxa AND Immunization_Estimates.ano = Ano AND Medias_Vacinas.vaccine = Immunization_Estimates.vaccine\n",
    "    Group by ano, Immunization_Estimates.vaccine;\n",
    "    \n",
    "    --para cada ano eu quero selecionar a contagem de valores acima da media\n",
    "\n",
    "SELECT ano Ano_acima_media, COUNT(*) \n",
    "    FROM contador_acima_media\n",
    "    GROUP BY ano;\n",
    "\n",
    "SELECT * FROM contador_acima_media;"
   ]
  },
  {
   "cell_type": "markdown",
   "metadata": {},
   "source": [
    "## 3) Para cada ano a quantidade de taxas de imunização abaixo da média por vacina"
   ]
  },
  {
   "cell_type": "code",
   "execution_count": 11,
   "metadata": {
    "scrolled": false
   },
   "outputs": [
    {
     "data": {
      "application/vnd.jupyter.widget-view+json": {
       "model_id": "511c3988-9e26-49f2-b922-b0648526c7aa",
       "version_major": 2,
       "version_minor": 0
      },
      "method": "display_data"
     },
     "metadata": {},
     "output_type": "display_data"
    },
    {
     "data": {
      "application/vnd.jupyter.widget-view+json": {
       "model_id": "9d4867b1-bdf8-47aa-8818-562f67965505",
       "version_major": 2,
       "version_minor": 0
      },
      "method": "display_data"
     },
     "metadata": {},
     "output_type": "display_data"
    }
   ],
   "source": [
    "DROP VIEW IF EXISTS contador_abaixo_media;\n",
    "CREATE VIEW contador_abaixo_media AS \n",
    "    Select Ano Anos_Abaixo_Da_Media, Immunization_Estimates.vaccine, Immunization_Estimates.taxa, Immunization_Estimates.ano\n",
    "    From Medias_Vacinas, Immunization_Estimates\n",
    "    Where Immunization_Estimates.Taxa < Medias_Vacinas.media_taxa AND Immunization_Estimates.ano = Ano AND Medias_Vacinas.vaccine = Immunization_Estimates.vaccine\n",
    "    Group by ano, Immunization_Estimates.vaccine;\n",
    "    \n",
    "    --para cada ano eu quero selecionar a contagem de valores abaixo da media\n",
    "\n",
    "SELECT ano Ano_abaixo_media, COUNT(*) \n",
    "    FROM contador_abaixo_media\n",
    "    GROUP BY ano;\n",
    "    \n",
    "SELECT * FROM contador_abaixo_media;"
   ]
  },
  {
   "cell_type": "markdown",
   "metadata": {},
   "source": [
    "## 4) Período com maior número de pesquisas contra vacinação"
   ]
  },
  {
   "cell_type": "code",
   "execution_count": 6,
   "metadata": {},
   "outputs": [
    {
     "data": {
      "text/plain": [
       "2018"
      ]
     },
     "execution_count": 6,
     "metadata": {},
     "output_type": "execute_result"
    }
   ],
   "source": [
    "Select Periodo \n",
    "    from Antivax_Trends\n",
    "    WHERE Antivax_Trends.Popularidade = (Select MAX(Popularidade) \n",
    "                                             from Antivax_Trends);"
   ]
  }
 ],
 "metadata": {
  "kernelspec": {
   "display_name": "SQL",
   "language": "SQL",
   "name": "sql"
  },
  "language_info": {
   "codemirror_mode": "sql",
   "file_extension": ".sql",
   "mimetype": "",
   "name": "SQL",
   "nbconverter_exporter": "",
   "version": ""
  },
  "toc": {
   "base_numbering": 1,
   "nav_menu": {},
   "number_sections": false,
   "sideBar": false,
   "skip_h1_title": false,
   "title_cell": "Table of Contents",
   "title_sidebar": "Contents",
   "toc_cell": false,
   "toc_position": {},
   "toc_section_display": false,
   "toc_window_display": false
  }
 },
 "nbformat": 4,
 "nbformat_minor": 2
}
