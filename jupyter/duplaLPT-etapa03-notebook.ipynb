{
 "cells": [
  {
   "cell_type": "markdown",
   "metadata": {},
   "source": [
    "# Fonte de Dados\n",
    "https://www.kaggle.com/unsdsn/world-happiness/version/1#2016.csv\n",
    "\n",
    "O conjunto de dados contém pontuações e classificações de felicidade, que usam dados da Pesquisa Mundial Gallup. As pontuações são baseadas nas principais perguntas sobre avaliações sobre a vida feitas na pesquisa. As perguntas são baseadas na escada Cantril, que pede aos entrevistados que pensem em uma escala com a melhor vida possível. Isso pede que os entrevistados classifiquem sua vida de zero a dez. Dez é a melhor vida possível e zero é o pior. Essas pontuações foram coletadas de 2013 a 2016, o que torna esses dados ainda muito relevantes.\n",
    "\n",
    "As colunas deste conjunto de dados incluem país, região, rank de felicidade, pontuação de felicidade, intervalo de confiança inferior, intervalo de confiança superior, Economia (PIB), Família, Saúde (Expectativa de Vida), Liberdade, Confiança no Governo, Generosidade, Distopia residual. As colunas depois do índice de felicidade levam em consideração seis fatores que tornam as avaliações de vida mais altas em cada país. Essas seis variáveis são produção econômica, apoio social, expectativa de vida, liberdade, ausência de corrupção e generosidade. A distopia não afeta a pontuação de felicidade de um país, ela apenas possui valores iguais à menor média nacional do mundo para cada um dos seis fatores, e serve apenas como referência para comparação.\n",
    "\n",
    "Nosso conjunto de dados contém 157 instâncias e 13 variáveis, as quais são:\n",
    "  > **País** - variável nominal e contém 156 países;<br>\n",
    "  > **Região** - também nominal e divide os dados em regiões de acordo com o continente;<br>\n",
    "  > **Rank de felicidade** - valor numérico e classifica a felicidade de cada país de 1 a 156, com base na pontuação mundial de felicidade;<br> \n",
    "  > **Pontuação de felicidade** - valor numérico em uma escala de um a dez;<br>\n",
    "  > **Nível de confiança inferior e superior** - usados para prever que ambos são numéricos;<br>\n",
    "  > **Economia** - variável numérica do PIB per capita, que nos dá uma visão do desempenho econômico de um país;<br>\n",
    "  > **Família** - variável numérica que nos dá uma ideia do quanto um país valoriza a família;<br>\n",
    "  > **Expectativa de Vida** - os cuidados de saúde são uma variável numérica baseada no acesso e na qualidade dos cuidados de saúde;<br>\n",
    "  > **Liberdade** - variável numérica que se baseia em quão livres as pessoas se sentem em um determinado país;<br>\n",
    "  > **Confiança no governo** - variável numérica que se baseia em quanto as pessoas confiam no governo;<br>\n",
    "  > **Generosidade** - variável numérica baseada em quão generosas as pessoas são em um determinado país;<br>\n",
    "  > **Distopia Residual** - variável numérica num país imaginário que tem as pessoas menos felizes do mundo. É um país imaginário que tem as pessoas menos felizes do mundo. Essa variável é usada para comparar com outros países e avaliar seu nível de felicidade."
   ]
  },
  {
   "cell_type": "code",
   "execution_count": 1,
   "metadata": {},
   "outputs": [],
   "source": [
    "%defaultDatasource jdbc:h2:mem:db"
   ]
  },
  {
   "cell_type": "code",
   "execution_count": 2,
   "metadata": {},
   "outputs": [
    {
     "data": {
      "application/vnd.jupyter.widget-view+json": {
       "model_id": "17fbe5da-1eab-4172-af12-97f4377ee64c",
       "version_major": 2,
       "version_minor": 0
      },
      "method": "display_data"
     },
     "metadata": {},
     "output_type": "display_data"
    }
   ],
   "source": [
    "DROP TABLE IF EXISTS Survey;\n",
    "\n",
    "CREATE TABLE Survey(\n",
    "    country VARCHAR(50) NOT NULL,\n",
    "    region VARCHAR(50),\n",
    "    hap_rank INT NOT NULL,\n",
    "    hap_score FLOAT,\n",
    "    lower_confidence_interval FLOAT,\n",
    "    upper_confidence_interval FLOAT,\n",
    "    economy FLOAT,\n",
    "    family FLOAT,\n",
    "    life_expectancy FLOAT,\n",
    "    freedom FLOAT,\n",
    "    gov_corruption FLOAT,\n",
    "    generosity FLOAT,\n",
    "    dystopia_residual FLOAT,\n",
    "    PRIMARY KEY(country)\n",
    ") AS SELECT \n",
    "    Country,\n",
    "    Region,\n",
    "    Happiness_Rank,\n",
    "    Happiness_Score,\n",
    "    Lower_Confidence_Interval,\n",
    "    Upper_Confidence_Interval,\n",
    "    Economy,\n",
    "    Family,\n",
    "    Life_Expectancy,\n",
    "    Freedom,\n",
    "    Government_Corruption,\n",
    "    Generosity,\n",
    "    Dystopia_Residual\n",
    "FROM CSVREAD('./world_happiness_report_2016.csv');\n",
    "\n",
    "SELECT * FROM Survey;"
   ]
  },
  {
   "cell_type": "markdown",
   "metadata": {},
   "source": [
    "## Análises em SQL\n",
    "\n",
    "### Query 1\n",
    "- Média do happiness score dos países, agrupados por região."
   ]
  },
  {
   "cell_type": "code",
   "execution_count": 3,
   "metadata": {},
   "outputs": [
    {
     "data": {
      "application/vnd.jupyter.widget-view+json": {
       "model_id": "9d8a1705-c44c-4300-8607-878c231472bc",
       "version_major": 2,
       "version_minor": 0
      },
      "method": "display_data"
     },
     "metadata": {},
     "output_type": "display_data"
    }
   ],
   "source": [
    "SELECT S.region, AVG(hap_score) avg_hap_score, COUNT(*) countries\n",
    "    FROM Survey S\n",
    "    GROUP BY S.region\n",
    "    ORDER BY avg_hap_score DESC;"
   ]
  },
  {
   "cell_type": "markdown",
   "metadata": {},
   "source": [
    "### Query 2\n",
    "\n",
    "- Coeficientes de correlação de Pearson entre a pontuação de felicidade e os seis fatores: Economia, Família, Expectativa de Vida, Liberdade, Confiança no Governo, Generosidade. Essa consulta nos proporciona uma noção de quais dos seis fatores mais influenciam para ter uma pontuação de felicidade mais elevada."
   ]
  },
  {
   "cell_type": "code",
   "execution_count": 4,
   "metadata": {},
   "outputs": [],
   "source": [
    "DROP TABLE IF EXISTS CorrelationHapScore;\n",
    "\n",
    "CREATE TABLE CorrelationHapScore(\n",
    "    relation VARCHAR(50),\n",
    "    coeficient FLOAT\n",
    ");"
   ]
  },
  {
   "cell_type": "code",
   "execution_count": 5,
   "metadata": {},
   "outputs": [],
   "source": [
    "DROP VIEW IF EXISTS SumHapEcon;\n",
    "DROP VIEW IF EXISTS HapEcon;\n",
    "\n",
    "CREATE VIEW HapEcon AS\n",
    "SELECT S.country, S.hap_score X, S.economy Y, S.hap_score*S.economy XY, S.hap_score*S.hap_score X2, S.economy*S.economy Y2\n",
    "    FROM Survey S;\n",
    "    \n",
    "CREATE VIEW SumHapEcon AS\n",
    "SELECT SUM(HE.X) SX, SUM(HE.Y) SY, SUM(HE.XY) SXY, SUM(HE.X2) SX2, SUM(HE.Y2) SY2, SUM(HE.X)*SUM(HE.X) QSX, SUM(HE.Y)*SUM(HE.Y) QSY\n",
    "    FROM HapEcon HE;\n",
    "\n",
    "INSERT INTO CorrelationHapScore(coeficient, relation)\n",
    "    VALUES ((SELECT ((157*SHE.SXY) - (SHE.SX*SHE.SY))/SQRT(((157*SHE.SX2) - (SHE.QSX)) * ((157*SHE.SY2) - (SHE.QSY))) \n",
    "                FROM SumHapEcon SHE), 'economy');"
   ]
  },
  {
   "cell_type": "code",
   "execution_count": 6,
   "metadata": {},
   "outputs": [],
   "source": [
    "DROP VIEW IF EXISTS SumHapFam;\n",
    "DROP VIEW IF EXISTS HapFam;\n",
    "\n",
    "CREATE VIEW HapFam AS\n",
    "SELECT S.country, S.hap_score X, S.family Y, S.hap_score*S.family XY, S.hap_score*S.hap_score X2, S.family*S.family Y2\n",
    "    FROM Survey S;\n",
    "    \n",
    "CREATE VIEW SumHapFam AS\n",
    "SELECT SUM(HE.X) SX, SUM(HE.Y) SY, SUM(HE.XY) SXY, SUM(HE.X2) SX2, SUM(HE.Y2) SY2, SUM(HE.X)*SUM(HE.X) QSX, SUM(HE.Y)*SUM(HE.Y) QSY\n",
    "    FROM HapFam HE;\n",
    "    \n",
    "INSERT INTO CorrelationHapScore(coeficient, relation)\n",
    "    VALUES ((SELECT ((157*SHE.SXY) - (SHE.SX*SHE.SY))/SQRT(((157*SHE.SX2) - (SHE.QSX)) * ((157*SHE.SY2) - (SHE.QSY))) \n",
    "                    FROM SumHapFam SHE), 'family');"
   ]
  },
  {
   "cell_type": "code",
   "execution_count": 7,
   "metadata": {},
   "outputs": [],
   "source": [
    "DROP VIEW IF EXISTS SumHapLife;\n",
    "DROP VIEW IF EXISTS HapLife;\n",
    "\n",
    "CREATE VIEW HapLife AS\n",
    "SELECT S.country, S.hap_score X, S.life_expectancy Y, S.hap_score*S.life_expectancy XY, S.hap_score*S.hap_score X2, S.life_expectancy*S.life_expectancy Y2\n",
    "    FROM Survey S;\n",
    "    \n",
    "CREATE VIEW SumHapLife AS\n",
    "SELECT SUM(HE.X) SX, SUM(HE.Y) SY, SUM(HE.XY) SXY, SUM(HE.X2) SX2, SUM(HE.Y2) SY2, SUM(HE.X)*SUM(HE.X) QSX, SUM(HE.Y)*SUM(HE.Y) QSY\n",
    "    FROM HapLife HE;\n",
    "    \n",
    "INSERT INTO CorrelationHapScore(coeficient, relation)\n",
    "    VALUES ((SELECT ((157*SHE.SXY) - (SHE.SX*SHE.SY))/SQRT(((157*SHE.SX2) - (SHE.QSX)) * ((157*SHE.SY2) - (SHE.QSY))) \n",
    "                            FROM SumHapLife SHE), 'life_expectancy');"
   ]
  },
  {
   "cell_type": "code",
   "execution_count": 8,
   "metadata": {},
   "outputs": [],
   "source": [
    "DROP VIEW IF EXISTS SumHapFree;\n",
    "DROP VIEW IF EXISTS HapFree;\n",
    "\n",
    "CREATE VIEW HapFree AS\n",
    "SELECT S.country, S.hap_score X, S.freedom Y, S.hap_score*S.freedom XY, S.hap_score*S.hap_score X2, S.freedom*S.freedom Y2\n",
    "    FROM Survey S;\n",
    "    \n",
    "CREATE VIEW SumHapFree AS\n",
    "SELECT SUM(HE.X) SX, SUM(HE.Y) SY, SUM(HE.XY) SXY, SUM(HE.X2) SX2, SUM(HE.Y2) SY2, SUM(HE.X)*SUM(HE.X) QSX, SUM(HE.Y)*SUM(HE.Y) QSY\n",
    "    FROM HapFree HE;\n",
    "    \n",
    "INSERT INTO CorrelationHapScore(coeficient, relation)\n",
    "    VALUES ((SELECT ((157*SHE.SXY) - (SHE.SX*SHE.SY))/SQRT(((157*SHE.SX2) - (SHE.QSX)) * ((157*SHE.SY2) - (SHE.QSY))) \n",
    "                    FROM SumHapFree SHE), 'freedom');"
   ]
  },
  {
   "cell_type": "code",
   "execution_count": 9,
   "metadata": {},
   "outputs": [],
   "source": [
    "DROP VIEW IF EXISTS SumHapGov;\n",
    "DROP VIEW IF EXISTS HapGov;\n",
    "\n",
    "CREATE VIEW HapGov AS\n",
    "SELECT S.country, S.hap_score X, S.gov_corruption Y, S.hap_score*S.gov_corruption XY, S.hap_score*S.hap_score X2, S.gov_corruption*S.gov_corruption Y2\n",
    "    FROM Survey S;\n",
    "    \n",
    "CREATE VIEW SumHapGov AS\n",
    "SELECT SUM(HE.X) SX, SUM(HE.Y) SY, SUM(HE.XY) SXY, SUM(HE.X2) SX2, SUM(HE.Y2) SY2, SUM(HE.X)*SUM(HE.X) QSX, SUM(HE.Y)*SUM(HE.Y) QSY\n",
    "    FROM HapGov HE;\n",
    "    \n",
    "INSERT INTO CorrelationHapScore(coeficient, relation)\n",
    "    VALUES ((SELECT ((157*SHE.SXY) - (SHE.SX*SHE.SY))/SQRT(((157*SHE.SX2) - (SHE.QSX)) * ((157*SHE.SY2) - (SHE.QSY))) \n",
    "                            FROM SumHapGov SHE), 'gov_corruption');"
   ]
  },
  {
   "cell_type": "code",
   "execution_count": 10,
   "metadata": {},
   "outputs": [],
   "source": [
    "DROP VIEW IF EXISTS SumHapGen;\n",
    "DROP VIEW IF EXISTS HapGen;\n",
    "\n",
    "CREATE VIEW HapGen AS\n",
    "SELECT S.country, S.hap_score X, S.generosity Y, S.hap_score*S.generosity XY, S.hap_score*S.hap_score X2, S.generosity*S.generosity Y2\n",
    "    FROM Survey S;\n",
    "    \n",
    "CREATE VIEW SumHapGen AS\n",
    "SELECT SUM(HE.X) SX, SUM(HE.Y) SY, SUM(HE.XY) SXY, SUM(HE.X2) SX2, SUM(HE.Y2) SY2, SUM(HE.X)*SUM(HE.X) QSX, SUM(HE.Y)*SUM(HE.Y) QSY\n",
    "    FROM HapGen HE;\n",
    "    \n",
    "INSERT INTO CorrelationHapScore(coeficient, relation)\n",
    "    VALUES ((SELECT ((157*SHE.SXY) - (SHE.SX*SHE.SY))/SQRT(((157*SHE.SX2) - (SHE.QSX)) * ((157*SHE.SY2) - (SHE.QSY))) \n",
    "                        FROM SumHapGen SHE), 'generosity');"
   ]
  },
  {
   "cell_type": "code",
   "execution_count": 12,
   "metadata": {},
   "outputs": [
    {
     "data": {
      "application/vnd.jupyter.widget-view+json": {
       "model_id": "a0fc9a7c-54aa-41f8-b587-b7bba239341e",
       "version_major": 2,
       "version_minor": 0
      },
      "method": "display_data"
     },
     "metadata": {},
     "output_type": "display_data"
    }
   ],
   "source": [
    "SELECT * FROM CorrelationHapScore ORDER BY coeficient DESC;"
   ]
  },
  {
   "cell_type": "code",
   "execution_count": null,
   "metadata": {},
   "outputs": [],
   "source": []
  }
 ],
 "metadata": {
  "kernelspec": {
   "display_name": "SQL",
   "language": "SQL",
   "name": "sql"
  },
  "language_info": {
   "codemirror_mode": "sql",
   "file_extension": ".sql",
   "mimetype": "",
   "name": "SQL",
   "nbconverter_exporter": "",
   "version": ""
  }
 },
 "nbformat": 4,
 "nbformat_minor": 2
}
